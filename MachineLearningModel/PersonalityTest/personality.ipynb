{
 "cells": [
  {
   "cell_type": "markdown",
   "metadata": {},
   "source": [
    "1. Imports"
   ]
  },
  {
   "cell_type": "code",
   "execution_count": 3,
   "metadata": {},
   "outputs": [
    {
     "name": "stdout",
     "output_type": "stream",
     "text": [
      "Collecting scikit-learn\n",
      "  Downloading scikit_learn-1.3.2-cp39-cp39-win_amd64.whl (9.3 MB)\n",
      "Collecting threadpoolctl>=2.0.0\n",
      "  Downloading threadpoolctl-3.2.0-py3-none-any.whl (15 kB)\n",
      "Collecting joblib>=1.1.1\n",
      "  Downloading joblib-1.3.2-py3-none-any.whl (302 kB)\n",
      "Collecting scipy>=1.5.0\n",
      "  Downloading scipy-1.11.3-cp39-cp39-win_amd64.whl (44.3 MB)\n",
      "Requirement already satisfied: numpy<2.0,>=1.17.3 in c:\\python39\\lib\\site-packages (from scikit-learn) (1.26.2)\n",
      "Installing collected packages: threadpoolctl, scipy, joblib, scikit-learn\n",
      "Successfully installed joblib-1.3.2 scikit-learn-1.3.2 scipy-1.11.3 threadpoolctl-3.2.0\n",
      "Note: you may need to restart the kernel to use updated packages.\n"
     ]
    },
    {
     "name": "stderr",
     "output_type": "stream",
     "text": [
      "WARNING: Ignoring invalid distribution -ip (c:\\python39\\lib\\site-packages)\n",
      "WARNING: Ignoring invalid distribution -ip (c:\\python39\\lib\\site-packages)\n",
      "WARNING: Ignoring invalid distribution -ip (c:\\python39\\lib\\site-packages)\n",
      "WARNING: Ignoring invalid distribution -ip (c:\\python39\\lib\\site-packages)\n",
      "WARNING: Ignoring invalid distribution -ip (c:\\python39\\lib\\site-packages)\n",
      "WARNING: Ignoring invalid distribution -ip (c:\\python39\\lib\\site-packages)\n",
      "WARNING: Ignoring invalid distribution -ip (c:\\python39\\lib\\site-packages)\n",
      "WARNING: Ignoring invalid distribution -ip (c:\\python39\\lib\\site-packages)\n",
      "WARNING: Ignoring invalid distribution -ip (c:\\python39\\lib\\site-packages)\n",
      "WARNING: Ignoring invalid distribution -ip (c:\\python39\\lib\\site-packages)\n",
      "WARNING: You are using pip version 21.2.3; however, version 23.3.1 is available.\n",
      "You should consider upgrading via the 'c:\\Python39\\python.exe -m pip install --upgrade pip' command.\n"
     ]
    }
   ],
   "source": [
    "pip install pandas\n",
    "pip install scikit-learn"
   ]
  },
  {
   "cell_type": "code",
   "execution_count": 5,
   "metadata": {},
   "outputs": [
    {
     "ename": "SyntaxError",
     "evalue": "invalid syntax (4213966569.py, line 2)",
     "output_type": "error",
     "traceback": [
      "\u001b[1;36m  Cell \u001b[1;32mIn[5], line 2\u001b[1;36m\u001b[0m\n\u001b[1;33m    from scikit-learn.cluster import KMeans\u001b[0m\n\u001b[1;37m               ^\u001b[0m\n\u001b[1;31mSyntaxError\u001b[0m\u001b[1;31m:\u001b[0m invalid syntax\n"
     ]
    }
   ],
   "source": [
    "import pandas as pd\n",
    "from sklearn.cluster import KMeans"
   ]
  },
  {
   "cell_type": "code",
   "execution_count": 3,
   "metadata": {},
   "outputs": [
    {
     "ename": "ModuleNotFoundError",
     "evalue": "No module named 'pylab'",
     "output_type": "error",
     "traceback": [
      "\u001b[1;31m---------------------------------------------------------------------------\u001b[0m",
      "\u001b[1;31mModuleNotFoundError\u001b[0m                       Traceback (most recent call last)",
      "\u001b[1;32me:\\User\\Documents\\GitHub\\ML_Project\\MachineLearningModel\\PersonalityTest\\personality.ipynb Cell 3\u001b[0m line \u001b[0;36m2\n\u001b[0;32m      <a href='vscode-notebook-cell:/e%3A/User/Documents/GitHub/ML_Project/MachineLearningModel/PersonalityTest/personality.ipynb#W3sZmlsZQ%3D%3D?line=0'>1</a>\u001b[0m \u001b[39mimport\u001b[39;00m \u001b[39mnumpy\u001b[39;00m \u001b[39mas\u001b[39;00m \u001b[39mnp\u001b[39;00m\n\u001b[1;32m----> <a href='vscode-notebook-cell:/e%3A/User/Documents/GitHub/ML_Project/MachineLearningModel/PersonalityTest/personality.ipynb#W3sZmlsZQ%3D%3D?line=1'>2</a>\u001b[0m \u001b[39mimport\u001b[39;00m \u001b[39mpylab\u001b[39;00m \u001b[39mas\u001b[39;00m \u001b[39mpl\u001b[39;00m\n\u001b[0;32m      <a href='vscode-notebook-cell:/e%3A/User/Documents/GitHub/ML_Project/MachineLearningModel/PersonalityTest/personality.ipynb#W3sZmlsZQ%3D%3D?line=2'>3</a>\u001b[0m \u001b[39mimport\u001b[39;00m \u001b[39mpandas\u001b[39;00m \u001b[39mas\u001b[39;00m \u001b[39mpd\u001b[39;00m\n\u001b[0;32m      <a href='vscode-notebook-cell:/e%3A/User/Documents/GitHub/ML_Project/MachineLearningModel/PersonalityTest/personality.ipynb#W3sZmlsZQ%3D%3D?line=3'>4</a>\u001b[0m \u001b[39mimport\u001b[39;00m \u001b[39mmatplotlib\u001b[39;00m\u001b[39m.\u001b[39;00m\u001b[39mpyplot\u001b[39;00m \u001b[39mas\u001b[39;00m \u001b[39mplt\u001b[39;00m \n",
      "\u001b[1;31mModuleNotFoundError\u001b[0m: No module named 'pylab'"
     ]
    }
   ],
   "source": [
    "import numpy as np\n",
    "import pylab as pl\n",
    "import pandas as pd\n",
    "import matplotlib.pyplot as plt \n",
    "%matplotlib inline\n",
    "import wordcloud\n",
    "from wordcloud import WordCloud,STOPWORDS\n",
    "import seaborn as sns\n",
    "from wordcloud import WordCloud, STOPWORDS, ImageColorGenerator\n",
    "from sklearn.utils import shuffle\n",
    "import matplotlib.ticker as mtick\n",
    "\n",
    "# Plotly\n",
    "import plotly.express as px\n",
    "import plotly.graph_objects as go\n",
    "import colorlover as cl\n",
    "from plotly.subplots import make_subplots"
   ]
  },
  {
   "cell_type": "markdown",
   "metadata": {},
   "source": [
    "2. Prepare Data"
   ]
  },
  {
   "cell_type": "code",
   "execution_count": 8,
   "metadata": {},
   "outputs": [
    {
     "data": {
      "text/html": [
       "<div>\n",
       "<style scoped>\n",
       "    .dataframe tbody tr th:only-of-type {\n",
       "        vertical-align: middle;\n",
       "    }\n",
       "\n",
       "    .dataframe tbody tr th {\n",
       "        vertical-align: top;\n",
       "    }\n",
       "\n",
       "    .dataframe thead th {\n",
       "        text-align: right;\n",
       "    }\n",
       "</style>\n",
       "<table border=\"1\" class=\"dataframe\">\n",
       "  <thead>\n",
       "    <tr style=\"text-align: right;\">\n",
       "      <th></th>\n",
       "      <th>EXT1\\tEXT2\\tEXT3\\tEXT4\\tEXT5\\tEXT6\\tEXT7\\tEXT8\\tEXT9\\tEXT10\\tEST1\\tEST2\\tEST3\\tEST4\\tEST5\\tEST6\\tEST7\\tEST8\\tEST9\\tEST10\\tAGR1\\tAGR2\\tAGR3\\tAGR4\\tAGR5\\tAGR6\\tAGR7\\tAGR8\\tAGR9\\tAGR10\\tCSN1\\tCSN2\\tCSN3\\tCSN4\\tCSN5\\tCSN6\\tCSN7\\tCSN8\\tCSN9\\tCSN10\\tOPN1\\tOPN2\\tOPN3\\tOPN4\\tOPN5\\tOPN6\\tOPN7\\tOPN8\\tOPN9\\tOPN10\\tEXT1_E\\tEXT2_E\\tEXT3_E\\tEXT4_E\\tEXT5_E\\tEXT6_E\\tEXT7_E\\tEXT8_E\\tEXT9_E\\tEXT10_E\\tEST1_E\\tEST2_E\\tEST3_E\\tEST4_E\\tEST5_E\\tEST6_E\\tEST7_E\\tEST8_E\\tEST9_E\\tEST10_E\\tAGR1_E\\tAGR2_E\\tAGR3_E\\tAGR4_E\\tAGR5_E\\tAGR6_E\\tAGR7_E\\tAGR8_E\\tAGR9_E\\tAGR10_E\\tCSN1_E\\tCSN2_E\\tCSN3_E\\tCSN4_E\\tCSN5_E\\tCSN6_E\\tCSN7_E\\tCSN8_E\\tCSN9_E\\tCSN10_E\\tOPN1_E\\tOPN2_E\\tOPN3_E\\tOPN4_E\\tOPN5_E\\tOPN6_E\\tOPN7_E\\tOPN8_E\\tOPN9_E\\tOPN10_E\\tdateload\\tscreenw\\tscreenh\\tintroelapse\\ttestelapse\\tendelapse\\tIPC\\tcountry\\tlat_appx_lots_of_err\\tlong_appx_lots_of_err</th>\n",
       "    </tr>\n",
       "  </thead>\n",
       "  <tbody>\n",
       "    <tr>\n",
       "      <th>0</th>\n",
       "      <td>4\\t1\\t5\\t2\\t5\\t1\\t5\\t2\\t4\\t1\\t1\\t4\\t4\\t2\\t2\\t2...</td>\n",
       "    </tr>\n",
       "    <tr>\n",
       "      <th>1</th>\n",
       "      <td>3\\t5\\t3\\t4\\t3\\t3\\t2\\t5\\t1\\t5\\t2\\t3\\t4\\t1\\t3\\t1...</td>\n",
       "    </tr>\n",
       "    <tr>\n",
       "      <th>2</th>\n",
       "      <td>2\\t3\\t4\\t4\\t3\\t2\\t1\\t3\\t2\\t5\\t4\\t4\\t4\\t2\\t2\\t2...</td>\n",
       "    </tr>\n",
       "    <tr>\n",
       "      <th>3</th>\n",
       "      <td>2\\t2\\t2\\t3\\t4\\t2\\t2\\t4\\t1\\t4\\t3\\t3\\t3\\t2\\t3\\t2...</td>\n",
       "    </tr>\n",
       "    <tr>\n",
       "      <th>4</th>\n",
       "      <td>3\\t3\\t3\\t3\\t5\\t3\\t3\\t5\\t3\\t4\\t1\\t5\\t5\\t3\\t1\\t1...</td>\n",
       "    </tr>\n",
       "    <tr>\n",
       "      <th>...</th>\n",
       "      <td>...</td>\n",
       "    </tr>\n",
       "    <tr>\n",
       "      <th>1015336</th>\n",
       "      <td>4\\t2\\t4\\t3\\t4\\t3\\t3\\t3\\t3\\t3\\t4\\t3\\t3\\t3\\t4\\t3...</td>\n",
       "    </tr>\n",
       "    <tr>\n",
       "      <th>1015337</th>\n",
       "      <td>4\\t3\\t4\\t3\\t3\\t3\\t4\\t4\\t3\\t3\\t4\\t3\\t5\\t1\\t5\\t5...</td>\n",
       "    </tr>\n",
       "    <tr>\n",
       "      <th>1015338</th>\n",
       "      <td>4\\t2\\t4\\t3\\t5\\t1\\t4\\t2\\t4\\t4\\t3\\t2\\t4\\t3\\t2\\t2...</td>\n",
       "    </tr>\n",
       "    <tr>\n",
       "      <th>1015339</th>\n",
       "      <td>2\\t4\\t3\\t4\\t2\\t2\\t1\\t4\\t2\\t4\\t4\\t3\\t4\\t2\\t4\\t4...</td>\n",
       "    </tr>\n",
       "    <tr>\n",
       "      <th>1015340</th>\n",
       "      <td>4\\t2\\t4\\t2\\t4\\t1\\t4\\t2\\t4\\t4\\t4\\t3\\t4\\t3\\t2\\t3...</td>\n",
       "    </tr>\n",
       "  </tbody>\n",
       "</table>\n",
       "<p>1015341 rows × 1 columns</p>\n",
       "</div>"
      ],
      "text/plain": [
       "        EXT1\\tEXT2\\tEXT3\\tEXT4\\tEXT5\\tEXT6\\tEXT7\\tEXT8\\tEXT9\\tEXT10\\tEST1\\tEST2\\tEST3\\tEST4\\tEST5\\tEST6\\tEST7\\tEST8\\tEST9\\tEST10\\tAGR1\\tAGR2\\tAGR3\\tAGR4\\tAGR5\\tAGR6\\tAGR7\\tAGR8\\tAGR9\\tAGR10\\tCSN1\\tCSN2\\tCSN3\\tCSN4\\tCSN5\\tCSN6\\tCSN7\\tCSN8\\tCSN9\\tCSN10\\tOPN1\\tOPN2\\tOPN3\\tOPN4\\tOPN5\\tOPN6\\tOPN7\\tOPN8\\tOPN9\\tOPN10\\tEXT1_E\\tEXT2_E\\tEXT3_E\\tEXT4_E\\tEXT5_E\\tEXT6_E\\tEXT7_E\\tEXT8_E\\tEXT9_E\\tEXT10_E\\tEST1_E\\tEST2_E\\tEST3_E\\tEST4_E\\tEST5_E\\tEST6_E\\tEST7_E\\tEST8_E\\tEST9_E\\tEST10_E\\tAGR1_E\\tAGR2_E\\tAGR3_E\\tAGR4_E\\tAGR5_E\\tAGR6_E\\tAGR7_E\\tAGR8_E\\tAGR9_E\\tAGR10_E\\tCSN1_E\\tCSN2_E\\tCSN3_E\\tCSN4_E\\tCSN5_E\\tCSN6_E\\tCSN7_E\\tCSN8_E\\tCSN9_E\\tCSN10_E\\tOPN1_E\\tOPN2_E\\tOPN3_E\\tOPN4_E\\tOPN5_E\\tOPN6_E\\tOPN7_E\\tOPN8_E\\tOPN9_E\\tOPN10_E\\tdateload\\tscreenw\\tscreenh\\tintroelapse\\ttestelapse\\tendelapse\\tIPC\\tcountry\\tlat_appx_lots_of_err\\tlong_appx_lots_of_err\n",
       "0        4\\t1\\t5\\t2\\t5\\t1\\t5\\t2\\t4\\t1\\t1\\t4\\t4\\t2\\t2\\t2...                                                                                                                                                                                                                                                                                                                                                                                                                                                                                                                                                                                                                                                                                                                                                                                                             \n",
       "1        3\\t5\\t3\\t4\\t3\\t3\\t2\\t5\\t1\\t5\\t2\\t3\\t4\\t1\\t3\\t1...                                                                                                                                                                                                                                                                                                                                                                                                                                                                                                                                                                                                                                                                                                                                                                                                             \n",
       "2        2\\t3\\t4\\t4\\t3\\t2\\t1\\t3\\t2\\t5\\t4\\t4\\t4\\t2\\t2\\t2...                                                                                                                                                                                                                                                                                                                                                                                                                                                                                                                                                                                                                                                                                                                                                                                                             \n",
       "3        2\\t2\\t2\\t3\\t4\\t2\\t2\\t4\\t1\\t4\\t3\\t3\\t3\\t2\\t3\\t2...                                                                                                                                                                                                                                                                                                                                                                                                                                                                                                                                                                                                                                                                                                                                                                                                             \n",
       "4        3\\t3\\t3\\t3\\t5\\t3\\t3\\t5\\t3\\t4\\t1\\t5\\t5\\t3\\t1\\t1...                                                                                                                                                                                                                                                                                                                                                                                                                                                                                                                                                                                                                                                                                                                                                                                                             \n",
       "...                                                    ...                                                                                                                                                                                                                                                                                                                                                                                                                                                                                                                                                                                                                                                                                                                                                                                                             \n",
       "1015336  4\\t2\\t4\\t3\\t4\\t3\\t3\\t3\\t3\\t3\\t4\\t3\\t3\\t3\\t4\\t3...                                                                                                                                                                                                                                                                                                                                                                                                                                                                                                                                                                                                                                                                                                                                                                                                             \n",
       "1015337  4\\t3\\t4\\t3\\t3\\t3\\t4\\t4\\t3\\t3\\t4\\t3\\t5\\t1\\t5\\t5...                                                                                                                                                                                                                                                                                                                                                                                                                                                                                                                                                                                                                                                                                                                                                                                                             \n",
       "1015338  4\\t2\\t4\\t3\\t5\\t1\\t4\\t2\\t4\\t4\\t3\\t2\\t4\\t3\\t2\\t2...                                                                                                                                                                                                                                                                                                                                                                                                                                                                                                                                                                                                                                                                                                                                                                                                             \n",
       "1015339  2\\t4\\t3\\t4\\t2\\t2\\t1\\t4\\t2\\t4\\t4\\t3\\t4\\t2\\t4\\t4...                                                                                                                                                                                                                                                                                                                                                                                                                                                                                                                                                                                                                                                                                                                                                                                                             \n",
       "1015340  4\\t2\\t4\\t2\\t4\\t1\\t4\\t2\\t4\\t4\\t4\\t3\\t4\\t3\\t2\\t3...                                                                                                                                                                                                                                                                                                                                                                                                                                                                                                                                                                                                                                                                                                                                                                                                             \n",
       "\n",
       "[1015341 rows x 1 columns]"
      ]
     },
     "execution_count": 8,
     "metadata": {},
     "output_type": "execute_result"
    }
   ],
   "source": [
    "df = pd.read_csv('data-final.csv')\n",
    "df"
   ]
  },
  {
   "cell_type": "markdown",
   "metadata": {},
   "source": [
    "3. Check missing values"
   ]
  },
  {
   "cell_type": "code",
   "execution_count": 9,
   "metadata": {},
   "outputs": [
    {
     "name": "stdout",
     "output_type": "stream",
     "text": [
      "Is there any missing value?  False\n",
      "How many missing values?  0\n",
      "Number of participants after eliminating missing values:  1015341\n"
     ]
    }
   ],
   "source": [
    "print('Is there any missing value? ', df.isnull().values.any())\n",
    "print('How many missing values? ', df.isnull().values.sum())\n",
    "df.dropna(inplace=True)\n",
    "print('Number of participants after eliminating missing values: ', len(df))"
   ]
  },
  {
   "cell_type": "markdown",
   "metadata": {},
   "source": [
    "4. EDA"
   ]
  },
  {
   "cell_type": "markdown",
   "metadata": {},
   "source": [
    "5. Creating K-means Cluster Model"
   ]
  },
  {
   "cell_type": "code",
   "execution_count": 13,
   "metadata": {},
   "outputs": [
    {
     "ename": "ModuleNotFoundError",
     "evalue": "No module named 'sklearn'",
     "output_type": "error",
     "traceback": [
      "\u001b[1;31m---------------------------------------------------------------------------\u001b[0m",
      "\u001b[1;31mModuleNotFoundError\u001b[0m                       Traceback (most recent call last)",
      "\u001b[1;32me:\\User\\Documents\\GitHub\\ML_Project\\MachineLearningModel\\PersonalityTest\\personality.ipynb Cell 11\u001b[0m line \u001b[0;36m1\n\u001b[1;32m----> <a href='vscode-notebook-cell:/e%3A/User/Documents/GitHub/ML_Project/MachineLearningModel/PersonalityTest/personality.ipynb#X16sZmlsZQ%3D%3D?line=0'>1</a>\u001b[0m \u001b[39mfrom\u001b[39;00m \u001b[39msklearn\u001b[39;00m\u001b[39m.\u001b[39;00m\u001b[39mcluster\u001b[39;00m \u001b[39mimport\u001b[39;00m KMeans\n",
      "\u001b[1;31mModuleNotFoundError\u001b[0m: No module named 'sklearn'"
     ]
    }
   ],
   "source": [
    "from sklearn.cluster import KMeans\n",
    "\n",
    "X = df.copy()"
   ]
  }
 ],
 "metadata": {
  "kernelspec": {
   "display_name": "Python 3",
   "language": "python",
   "name": "python3"
  },
  "language_info": {
   "codemirror_mode": {
    "name": "ipython",
    "version": 3
   },
   "file_extension": ".py",
   "mimetype": "text/x-python",
   "name": "python",
   "nbconvert_exporter": "python",
   "pygments_lexer": "ipython3",
   "version": "3.9.7"
  }
 },
 "nbformat": 4,
 "nbformat_minor": 2
}
